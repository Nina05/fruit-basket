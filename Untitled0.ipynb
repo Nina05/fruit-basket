{
  "cells": [
    {
      "cell_type": "markdown",
      "metadata": {
        "id": "view-in-github",
        "colab_type": "text"
      },
      "source": [
        "<a href=\"https://colab.research.google.com/github/Nina05/fruit-basket/blob/master/Untitled0.ipynb\" target=\"_parent\"><img src=\"https://colab.research.google.com/assets/colab-badge.svg\" alt=\"Open In Colab\"/></a>"
      ]
    },
    {
      "cell_type": "code",
      "execution_count": null,
      "metadata": {
        "colab": {
          "base_uri": "https://localhost:8080/"
        },
        "id": "HYykBuqVqOBv",
        "outputId": "9fdbcee4-99cb-4a71-b9e0-80181b25f328"
      },
      "outputs": [
        {
          "name": "stdout",
          "output_type": "stream",
          "text": [
            "Reading package lists... Done\n",
            "Building dependency tree       \n",
            "Reading state information... Done\n",
            "The following NEW packages will be installed:\n",
            "  dos2unix\n",
            "0 upgraded, 1 newly installed, 0 to remove and 37 not upgraded.\n",
            "Need to get 351 kB of archives.\n",
            "After this operation, 1,267 kB of additional disk space will be used.\n",
            "Get:1 http://archive.ubuntu.com/ubuntu bionic/universe amd64 dos2unix amd64 7.3.4-3 [351 kB]\n",
            "Fetched 351 kB in 1s (437 kB/s)\n",
            "debconf: unable to initialize frontend: Dialog\n",
            "debconf: (No usable dialog-like program is installed, so the dialog based frontend cannot be used. at /usr/share/perl5/Debconf/FrontEnd/Dialog.pm line 76, <> line 1.)\n",
            "debconf: falling back to frontend: Readline\n",
            "debconf: unable to initialize frontend: Readline\n",
            "debconf: (This frontend requires a controlling tty.)\n",
            "debconf: falling back to frontend: Teletype\n",
            "dpkg-preconfigure: unable to re-open stdin: \n",
            "Selecting previously unselected package dos2unix.\n",
            "(Reading database ... 155229 files and directories currently installed.)\n",
            "Preparing to unpack .../dos2unix_7.3.4-3_amd64.deb ...\n",
            "Unpacking dos2unix (7.3.4-3) ...\n",
            "Setting up dos2unix (7.3.4-3) ...\n",
            "Processing triggers for man-db (2.8.3-2ubuntu0.1) ...\n"
          ]
        }
      ],
      "source": [
        "!sudo apt-get install dos2unix"
      ]
    },
    {
      "cell_type": "code",
      "execution_count": null,
      "metadata": {
        "id": "pyA4vBk0rc7v"
      },
      "outputs": [],
      "source": [
        "!chmod +x filter.py"
      ]
    },
    {
      "cell_type": "code",
      "execution_count": null,
      "metadata": {
        "colab": {
          "base_uri": "https://localhost:8080/"
        },
        "id": "AEneWoHWrz7N",
        "outputId": "57a61ee4-b03a-4580-ee35-1f7853ffbee4"
      },
      "outputs": [
        {
          "name": "stdout",
          "output_type": "stream",
          "text": [
            "dos2unix: converting file filter.py to Unix format...\n"
          ]
        }
      ],
      "source": [
        "!dos2unix filter.py"
      ]
    },
    {
      "cell_type": "code",
      "execution_count": null,
      "metadata": {
        "colab": {
          "base_uri": "https://localhost:8080/",
          "height": 166
        },
        "id": "EqPY7Kfkr1Dr",
        "outputId": "776ba8bd-c58a-4cc1-e6b9-6e90f3d7e7ef"
      },
      "outputs": [
        {
          "ename": "SyntaxError",
          "evalue": "ignored",
          "output_type": "error",
          "traceback": [
            "\u001b[0;36m  File \u001b[0;32m\"<ipython-input-4-8e4356da0e68>\"\u001b[0;36m, line \u001b[0;32m1\u001b[0m\n\u001b[0;31m    curl -N \"https://projects.propublica.org/congress/assets/staffers/2017Q1-house-disburse-detail.csv\" | ./filter.py\u001b[0m\n\u001b[0m                                                                                                      ^\u001b[0m\n\u001b[0;31mSyntaxError\u001b[0m\u001b[0;31m:\u001b[0m invalid syntax\n"
          ]
        }
      ],
      "source": [
        "curl -N \"https://projects.propublica.org/congress/assets/staffers/2017Q1-house-disburse-detail.csv\" | ./filter.py"
      ]
    },
    {
      "cell_type": "code",
      "execution_count": null,
      "metadata": {
        "colab": {
          "base_uri": "https://localhost:8080/"
        },
        "id": "_dwmrxIIr5LL",
        "outputId": "41b72e99-b025-42c5-f1fc-3cccf3916b65"
      },
      "outputs": [
        {
          "name": "stdout",
          "output_type": "stream",
          "text": [
            "  % Total    % Received % Xferd  Average Speed   Time    Time     Time  Current\n",
            "                                 Dload  Upload   Total   Spent    Left  Speed\n",
            "100 18.6M  100 18.6M    0     0  51.9M      0 --:--:-- --:--:-- --:--:-- 51.9M\n",
            "BIOGUIDE_ID,OFFICE,QUARTER,PROGRAM,CATEGORY,DATE,TRANSCODE,RECORDID,PAYEE,START DATE,END DATE,PURPOSE,AMOUNT,YEAR,RECIP (orig.)\n",
            ",OFFICE OF THE SPEAKER,2017Q1,GENERAL EXPENDITURES,SUPPLIES AND MATERIALS,1/9/2017,AP,E0476005,HAGUE QUALITY WATER OF MD INC,1/3/2017,12/31/2017,WATER,3780,2017,HAGUE QUALITY WATER OF MD INC\n",
            ",OFFICE OF THE MINORITY LEADER,2017Q1,GENERAL EXPENDITURES,SUPPLIES AND MATERIALS,2/3/2017,AP,E0484046,HAGUE QUALITY WATER OF MD INC,2/1/2017,12/31/2017,WATER,4158,2017,HAGUE QUALITY WATER OF MD INC\n",
            ",CHIEF ADMIN OFCR OF THE HOUSE,2017Q1,ADMIN AND OPS,SUPPLIES AND MATERIALS,1/20/2017,AP,900787,DEER PARK,12/31/2016,12/31/2016,WATER,1486.34,2016,DEER PARK\n",
            ",CHIEF ADMIN OFCR OF THE HOUSE,2017Q1,ADMIN AND OPS,SUPPLIES AND MATERIALS,2/27/2017,AP,906775,DEER PARK,1/31/2017,1/31/2017,WATER,1369.41,2017,DEER PARK\n",
            ",CHIEF ADMIN OFCR OF THE HOUSE,2017Q1,ADMIN AND OPS,SUPPLIES AND MATERIALS,3/28/2017,AP,912405,DEER PARK,2/28/2017,2/28/2017,WATER,1577.37,2017,DEER PARK\n",
            ",SERGEANT AT ARMS,2017Q1,NON - PERSONNEL,SUPPLIES AND MATERIALS,2/27/2017,AP,906775,DEER PARK,1/31/2017,1/31/2017,WATER,1174.03,2017,DEER PARK\n",
            "B001285,HON. JULIA BROWNLEY,2017Q1,OFFICIAL EXPENSES OF MEMBERS,SUPPLIES AND MATERIALS,1/17/2017,AP,E0478521,QUENCH,1/1/2017,12/31/2017,WATER,1332,2017,QUENCH\n",
            "J000174,HON. SAM JOHNSON,2017Q1,OFFICIAL EXPENSES OF MEMBERS,SUPPLIES AND MATERIALS,1/13/2017,AP,E0476458,HAGUE QUALITY WATER OF MD INC,1/4/2017,1/1/2019,WATER,1512,2019,HAGUE QUALITY WATER OF MD INC\n",
            "M001143,HON. BETTY MCCOLLUM,2017Q1,OFFICIAL EXPENSES OF MEMBERS,SUPPLIES AND MATERIALS,1/25/2017,AP,E0480457,HAGUE QUALITY WATER OF MD INC,12/17/2016,12/31/2018,WATER,1543.5,2018,HAGUE QUALITY WATER OF MD INC\n",
            "P000591,HON. TOM PRICE,2017Q1,OFFICIAL EXPENSES OF MEMBERS,SUPPLIES AND MATERIALS,3/30/2017,AP,E0496372,CRYSTAL SPRINGS,1/24/2017,2/8/2017,WATER,1078.18,2017,CRYSTAL SPRINGS\n",
            "T000462,HON. PATRICK J. TIBERI,2017Q1,OFFICIAL EXPENSES OF MEMBERS,SUPPLIES AND MATERIALS,3/7/2017,AP,902259,HAGUE QUALITY WATER OF MD INC,1/1/2017,12/31/2018,WATER,1512,2018,HAGUE QUALITY WATER OF MD INC\n",
            ",COMMITTEE ON APPROPRIATIONS,2017Q1,APPROPRIATIONS COMMITTEE,SUPPLIES AND MATERIALS,2/27/2017,AP,906775,DEER PARK,1/31/2017,1/31/2017,WATER,1226.5,2017,DEER PARK\n",
            ",COMMITTEE ON ENERGY & COMMERCE,2017Q1,GENERAL EXPENDITURES,SUPPLIES AND MATERIALS,1/5/2017,AP,E0471249,READYREFRESH BY NESTLE,11/1/2016,11/30/2016,WATER,1019.43,2016,READYREFRESH BY NESTLE\n",
            ",COMMITTEE ON WAYS AND MEANS,2017Q1,GENERAL EXPENDITURES,SUPPLIES AND MATERIALS,1/13/2017,AP,E0475188,WATERLOGIC EAST LLC,1/1/2017,12/31/2017,WATER,3489.6,2017,WATERLOGIC EAST LLC\n",
            ",COMMITTEE ON WAYS AND MEANS,2017Q1,GENERAL EXPENDITURES,SUPPLIES AND MATERIALS,1/19/2017,AP,E0477615,WATERLOGIC EAST LLC,1/1/2017,12/31/2017,WATER,1380,2017,WATERLOGIC EAST LLC\n",
            ",HOMELAND SECURITY,2017Q1,GENERAL EXPENDITURES,SUPPLIES AND MATERIALS,1/19/2017,AP,E0477363,WATERLOGIC EAST LLC,1/1/2017,12/31/2017,WATER,1560,2017,WATERLOGIC EAST LLC\n"
          ]
        }
      ],
      "source": [
        "!curl -N \"https://projects.propublica.org/congress/assets/staffers/2017Q1-house-disburse-detail.csv\" | ./filter.py"
      ]
    },
    {
      "cell_type": "code",
      "execution_count": null,
      "metadata": {
        "colab": {
          "base_uri": "https://localhost:8080/"
        },
        "id": "Zpu6CTfjsFT6",
        "outputId": "a0c6c15a-e17f-4c34-88a9-dd3d25ec42ec"
      },
      "outputs": [
        {
          "name": "stdout",
          "output_type": "stream",
          "text": [
            "Get:1 https://cloud.r-project.org/bin/linux/ubuntu bionic-cran40/ InRelease [3,626 B]\n",
            "Ign:2 https://developer.download.nvidia.com/compute/cuda/repos/ubuntu1804/x86_64  InRelease\n",
            "Get:3 http://ppa.launchpad.net/c2d4u.team/c2d4u4.0+/ubuntu bionic InRelease [15.9 kB]\n",
            "Ign:4 https://developer.download.nvidia.com/compute/machine-learning/repos/ubuntu1804/x86_64  InRelease\n",
            "Get:5 http://security.ubuntu.com/ubuntu bionic-security InRelease [88.7 kB]\n",
            "Hit:6 http://archive.ubuntu.com/ubuntu bionic InRelease\n",
            "Get:7 https://developer.download.nvidia.com/compute/cuda/repos/ubuntu1804/x86_64  Release [696 B]\n",
            "Hit:8 https://developer.download.nvidia.com/compute/machine-learning/repos/ubuntu1804/x86_64  Release\n",
            "Get:9 https://developer.download.nvidia.com/compute/cuda/repos/ubuntu1804/x86_64  Release.gpg [836 B]\n",
            "Get:10 https://cloud.r-project.org/bin/linux/ubuntu bionic-cran40/ Packages [76.0 kB]\n",
            "Get:11 http://archive.ubuntu.com/ubuntu bionic-updates InRelease [88.7 kB]\n",
            "Hit:13 http://ppa.launchpad.net/cran/libgit2/ubuntu bionic InRelease\n",
            "Get:14 https://developer.download.nvidia.com/compute/cuda/repos/ubuntu1804/x86_64  Packages [867 kB]\n",
            "Get:15 http://archive.ubuntu.com/ubuntu bionic-backports InRelease [74.6 kB]\n",
            "Get:16 http://ppa.launchpad.net/deadsnakes/ppa/ubuntu bionic InRelease [15.9 kB]\n",
            "Get:17 http://security.ubuntu.com/ubuntu bionic-security/restricted amd64 Packages [725 kB]\n",
            "Hit:18 http://ppa.launchpad.net/graphics-drivers/ppa/ubuntu bionic InRelease\n",
            "Get:19 http://archive.ubuntu.com/ubuntu bionic-updates/restricted amd64 Packages [758 kB]\n",
            "Get:20 http://ppa.launchpad.net/c2d4u.team/c2d4u4.0+/ubuntu bionic/main Sources [1,823 kB]\n",
            "Get:21 http://security.ubuntu.com/ubuntu bionic-security/main amd64 Packages [2,498 kB]\n",
            "Get:22 http://archive.ubuntu.com/ubuntu bionic-updates/main amd64 Packages [2,935 kB]\n",
            "Get:23 http://security.ubuntu.com/ubuntu bionic-security/universe amd64 Packages [1,459 kB]\n",
            "Get:24 http://archive.ubuntu.com/ubuntu bionic-updates/universe amd64 Packages [2,238 kB]\n",
            "Get:25 http://ppa.launchpad.net/c2d4u.team/c2d4u4.0+/ubuntu bionic/main amd64 Packages [934 kB]\n",
            "Get:26 http://ppa.launchpad.net/deadsnakes/ppa/ubuntu bionic/main amd64 Packages [45.3 kB]\n",
            "Fetched 14.6 MB in 3s (4,276 kB/s)\n",
            "Reading package lists... Done\n"
          ]
        }
      ],
      "source": [
        "!sudo apt-get update"
      ]
    },
    {
      "cell_type": "code",
      "execution_count": null,
      "metadata": {
        "colab": {
          "base_uri": "https://localhost:8080/"
        },
        "id": "hAsR-tX7sOU_",
        "outputId": "e191601f-6612-4e79-e692-0bc10b83c25e"
      },
      "outputs": [
        {
          "name": "stdout",
          "output_type": "stream",
          "text": [
            "Reading package lists... Done\n",
            "Building dependency tree       \n",
            "Reading state information... Done\n",
            "The following additional packages will be installed:\n",
            "  python-babel-localedata python-pyicu python3-agate python3-agatedbf\n",
            "  python3-agateexcel python3-agatesql python3-attr python3-babel python3-bs4\n",
            "  python3-chardet python3-csvkit python3-dbfread python3-et-xmlfile\n",
            "  python3-future python3-html5lib python3-isodate python3-jdcal\n",
            "  python3-leather python3-lxml python3-olefile python3-openpyxl\n",
            "  python3-parsedatetime python3-pil python3-pkg-resources python3-pluggy\n",
            "  python3-py python3-pytest python3-pytimeparse python3-six python3-slugify\n",
            "  python3-sqlalchemy python3-tz python3-unidecode python3-webencodings\n",
            "  python3-xlrd\n",
            "Suggested packages:\n",
            "  csvkit-doc python-agate-doc python-agatedbf-doc python-agateexcel-doc\n",
            "  python-agatesql-doc python-attr-doc python-dbfread-doc python-future-doc\n",
            "  python3-genshi python-leather-doc python3-lxml-dbg python-lxml-doc\n",
            "  python-pil-doc python3-pil-dbg python3-setuptools subversion\n",
            "  python-sqlalchemy-doc python3-psycopg2 python3-pymysql python3-fdb\n",
            "The following NEW packages will be installed:\n",
            "  csvkit python-babel-localedata python-pyicu python3-agate python3-agatedbf\n",
            "  python3-agateexcel python3-agatesql python3-attr python3-babel python3-bs4\n",
            "  python3-chardet python3-csvkit python3-dbfread python3-et-xmlfile\n",
            "  python3-future python3-html5lib python3-isodate python3-jdcal\n",
            "  python3-leather python3-lxml python3-olefile python3-openpyxl\n",
            "  python3-parsedatetime python3-pil python3-pkg-resources python3-pluggy\n",
            "  python3-py python3-pytest python3-pytimeparse python3-six python3-slugify\n",
            "  python3-sqlalchemy python3-tz python3-unidecode python3-webencodings\n",
            "  python3-xlrd\n",
            "0 upgraded, 36 newly installed, 0 to remove and 58 not upgraded.\n",
            "Need to get 7,373 kB of archives.\n",
            "After this operation, 37.7 MB of additional disk space will be used.\n",
            "Get:1 http://archive.ubuntu.com/ubuntu bionic-updates/main amd64 python-babel-localedata all 2.4.0+dfsg.1-2ubuntu1.1 [3,410 kB]\n",
            "Get:2 http://archive.ubuntu.com/ubuntu bionic/main amd64 python3-pkg-resources all 39.0.1-2 [98.8 kB]\n",
            "Get:3 http://archive.ubuntu.com/ubuntu bionic/main amd64 python3-tz all 2018.3-2 [25.1 kB]\n",
            "Get:4 http://archive.ubuntu.com/ubuntu bionic-updates/main amd64 python3-babel all 2.4.0+dfsg.1-2ubuntu1.1 [79.9 kB]\n",
            "Get:5 http://archive.ubuntu.com/ubuntu bionic/main amd64 python3-six all 1.11.0-2 [11.4 kB]\n",
            "Get:6 http://archive.ubuntu.com/ubuntu bionic/universe amd64 python3-isodate all 0.6.0-1 [23.9 kB]\n",
            "Get:7 http://archive.ubuntu.com/ubuntu bionic/universe amd64 python3-leather all 0.3.3-1 [19.0 kB]\n",
            "Get:8 http://archive.ubuntu.com/ubuntu bionic/universe amd64 python3-future all 0.15.2-4ubuntu2 [333 kB]\n",
            "Get:9 http://archive.ubuntu.com/ubuntu bionic/universe amd64 python3-parsedatetime all 2.4-2 [31.6 kB]\n",
            "Get:10 http://archive.ubuntu.com/ubuntu bionic/universe amd64 python3-pytimeparse all 1.1.5-2 [7,866 B]\n",
            "Get:11 http://archive.ubuntu.com/ubuntu bionic/universe amd64 python3-unidecode all 1.0.22-1 [108 kB]\n",
            "Get:12 http://archive.ubuntu.com/ubuntu bionic/universe amd64 python3-slugify all 1.2.4-2 [5,252 B]\n",
            "Get:13 http://archive.ubuntu.com/ubuntu bionic/universe amd64 python3-agate all 1.6.0-3 [46.5 kB]\n",
            "Get:14 http://archive.ubuntu.com/ubuntu bionic/universe amd64 python3-dbfread all 2.0.7-2 [14.7 kB]\n",
            "Get:15 http://archive.ubuntu.com/ubuntu bionic/universe amd64 python3-agatedbf all 0.2.0-2 [3,948 B]\n",
            "Get:16 http://archive.ubuntu.com/ubuntu bionic/universe amd64 python3-et-xmlfile all 1.0.1-2 [9,064 B]\n",
            "Get:17 http://archive.ubuntu.com/ubuntu bionic/universe amd64 python3-jdcal all 1.0-1.2 [7,534 B]\n",
            "Get:18 http://archive.ubuntu.com/ubuntu bionic-updates/main amd64 python3-lxml amd64 4.2.1-1ubuntu0.6 [1,098 kB]\n",
            "Get:19 http://archive.ubuntu.com/ubuntu bionic/universe amd64 python3-openpyxl all 2.4.9-1 [210 kB]\n",
            "Get:20 http://archive.ubuntu.com/ubuntu bionic/universe amd64 python3-xlrd all 1.1.0-1 [85.1 kB]\n",
            "Get:21 http://archive.ubuntu.com/ubuntu bionic/universe amd64 python3-agateexcel all 0.2.1-3 [5,544 B]\n",
            "Get:22 http://archive.ubuntu.com/ubuntu bionic/main amd64 python3-sqlalchemy all 1.1.11+ds1-1ubuntu1 [680 kB]\n",
            "Get:23 http://archive.ubuntu.com/ubuntu bionic/universe amd64 python3-agatesql all 0.5.2-2 [6,300 B]\n",
            "Get:24 http://archive.ubuntu.com/ubuntu bionic/universe amd64 python3-csvkit all 1.0.2-1 [25.8 kB]\n",
            "Get:25 http://archive.ubuntu.com/ubuntu bionic/universe amd64 csvkit all 1.0.2-1 [3,012 B]\n",
            "Get:26 http://archive.ubuntu.com/ubuntu bionic/main amd64 python-pyicu amd64 1.9.8-0ubuntu1 [176 kB]\n",
            "Get:27 http://archive.ubuntu.com/ubuntu bionic/main amd64 python3-attr all 17.4.0-2 [23.8 kB]\n",
            "Get:28 http://archive.ubuntu.com/ubuntu bionic/main amd64 python3-bs4 all 4.6.0-1 [67.8 kB]\n",
            "Get:29 http://archive.ubuntu.com/ubuntu bionic/main amd64 python3-chardet all 3.0.4-1 [80.3 kB]\n",
            "Get:30 http://archive.ubuntu.com/ubuntu bionic/main amd64 python3-webencodings all 0.5-2 [10.4 kB]\n",
            "Get:31 http://archive.ubuntu.com/ubuntu bionic/main amd64 python3-html5lib all 0.999999999-1 [81.9 kB]\n",
            "Get:32 http://archive.ubuntu.com/ubuntu bionic/main amd64 python3-olefile all 0.45.1-1 [33.3 kB]\n",
            "Get:33 http://archive.ubuntu.com/ubuntu bionic-updates/main amd64 python3-pil amd64 5.1.0-1ubuntu0.7 [331 kB]\n",
            "Get:34 http://archive.ubuntu.com/ubuntu bionic/universe amd64 python3-pluggy all 0.6.0-1 [12.3 kB]\n",
            "Get:35 http://archive.ubuntu.com/ubuntu bionic-updates/universe amd64 python3-py all 1.5.2-1ubuntu0.1 [65.3 kB]\n",
            "Get:36 http://archive.ubuntu.com/ubuntu bionic/universe amd64 python3-pytest all 3.3.2-2 [142 kB]\n",
            "Fetched 7,373 kB in 2s (3,718 kB/s)\n",
            "debconf: unable to initialize frontend: Dialog\n",
            "debconf: (No usable dialog-like program is installed, so the dialog based frontend cannot be used. at /usr/share/perl5/Debconf/FrontEnd/Dialog.pm line 76, <> line 36.)\n",
            "debconf: falling back to frontend: Readline\n",
            "debconf: unable to initialize frontend: Readline\n",
            "debconf: (This frontend requires a controlling tty.)\n",
            "debconf: falling back to frontend: Teletype\n",
            "dpkg-preconfigure: unable to re-open stdin: \n",
            "Selecting previously unselected package python-babel-localedata.\n",
            "(Reading database ... 155330 files and directories currently installed.)\n",
            "Preparing to unpack .../00-python-babel-localedata_2.4.0+dfsg.1-2ubuntu1.1_all.deb ...\n",
            "Unpacking python-babel-localedata (2.4.0+dfsg.1-2ubuntu1.1) ...\n",
            "Selecting previously unselected package python3-pkg-resources.\n",
            "Preparing to unpack .../01-python3-pkg-resources_39.0.1-2_all.deb ...\n",
            "Unpacking python3-pkg-resources (39.0.1-2) ...\n",
            "Selecting previously unselected package python3-tz.\n",
            "Preparing to unpack .../02-python3-tz_2018.3-2_all.deb ...\n",
            "Unpacking python3-tz (2018.3-2) ...\n",
            "Selecting previously unselected package python3-babel.\n",
            "Preparing to unpack .../03-python3-babel_2.4.0+dfsg.1-2ubuntu1.1_all.deb ...\n",
            "Unpacking python3-babel (2.4.0+dfsg.1-2ubuntu1.1) ...\n",
            "Selecting previously unselected package python3-six.\n",
            "Preparing to unpack .../04-python3-six_1.11.0-2_all.deb ...\n",
            "Unpacking python3-six (1.11.0-2) ...\n",
            "Selecting previously unselected package python3-isodate.\n",
            "Preparing to unpack .../05-python3-isodate_0.6.0-1_all.deb ...\n",
            "Unpacking python3-isodate (0.6.0-1) ...\n",
            "Selecting previously unselected package python3-leather.\n",
            "Preparing to unpack .../06-python3-leather_0.3.3-1_all.deb ...\n",
            "Unpacking python3-leather (0.3.3-1) ...\n",
            "Selecting previously unselected package python3-future.\n",
            "Preparing to unpack .../07-python3-future_0.15.2-4ubuntu2_all.deb ...\n",
            "Unpacking python3-future (0.15.2-4ubuntu2) ...\n",
            "Selecting previously unselected package python3-parsedatetime.\n",
            "Preparing to unpack .../08-python3-parsedatetime_2.4-2_all.deb ...\n",
            "Unpacking python3-parsedatetime (2.4-2) ...\n",
            "Selecting previously unselected package python3-pytimeparse.\n",
            "Preparing to unpack .../09-python3-pytimeparse_1.1.5-2_all.deb ...\n",
            "Unpacking python3-pytimeparse (1.1.5-2) ...\n",
            "Selecting previously unselected package python3-unidecode.\n",
            "Preparing to unpack .../10-python3-unidecode_1.0.22-1_all.deb ...\n",
            "Unpacking python3-unidecode (1.0.22-1) ...\n",
            "Selecting previously unselected package python3-slugify.\n",
            "Preparing to unpack .../11-python3-slugify_1.2.4-2_all.deb ...\n",
            "Unpacking python3-slugify (1.2.4-2) ...\n",
            "Selecting previously unselected package python3-agate.\n",
            "Preparing to unpack .../12-python3-agate_1.6.0-3_all.deb ...\n",
            "Unpacking python3-agate (1.6.0-3) ...\n",
            "Selecting previously unselected package python3-dbfread.\n",
            "Preparing to unpack .../13-python3-dbfread_2.0.7-2_all.deb ...\n",
            "Unpacking python3-dbfread (2.0.7-2) ...\n",
            "Selecting previously unselected package python3-agatedbf.\n",
            "Preparing to unpack .../14-python3-agatedbf_0.2.0-2_all.deb ...\n",
            "Unpacking python3-agatedbf (0.2.0-2) ...\n",
            "Selecting previously unselected package python3-et-xmlfile.\n",
            "Preparing to unpack .../15-python3-et-xmlfile_1.0.1-2_all.deb ...\n",
            "Unpacking python3-et-xmlfile (1.0.1-2) ...\n",
            "Selecting previously unselected package python3-jdcal.\n",
            "Preparing to unpack .../16-python3-jdcal_1.0-1.2_all.deb ...\n",
            "Unpacking python3-jdcal (1.0-1.2) ...\n",
            "Selecting previously unselected package python3-lxml:amd64.\n",
            "Preparing to unpack .../17-python3-lxml_4.2.1-1ubuntu0.6_amd64.deb ...\n",
            "Unpacking python3-lxml:amd64 (4.2.1-1ubuntu0.6) ...\n",
            "Selecting previously unselected package python3-openpyxl.\n",
            "Preparing to unpack .../18-python3-openpyxl_2.4.9-1_all.deb ...\n",
            "Unpacking python3-openpyxl (2.4.9-1) ...\n",
            "Selecting previously unselected package python3-xlrd.\n",
            "Preparing to unpack .../19-python3-xlrd_1.1.0-1_all.deb ...\n",
            "Unpacking python3-xlrd (1.1.0-1) ...\n",
            "Selecting previously unselected package python3-agateexcel.\n",
            "Preparing to unpack .../20-python3-agateexcel_0.2.1-3_all.deb ...\n",
            "Unpacking python3-agateexcel (0.2.1-3) ...\n",
            "Selecting previously unselected package python3-sqlalchemy.\n",
            "Preparing to unpack .../21-python3-sqlalchemy_1.1.11+ds1-1ubuntu1_all.deb ...\n",
            "Unpacking python3-sqlalchemy (1.1.11+ds1-1ubuntu1) ...\n",
            "Selecting previously unselected package python3-agatesql.\n",
            "Preparing to unpack .../22-python3-agatesql_0.5.2-2_all.deb ...\n",
            "Unpacking python3-agatesql (0.5.2-2) ...\n",
            "Selecting previously unselected package python3-csvkit.\n",
            "Preparing to unpack .../23-python3-csvkit_1.0.2-1_all.deb ...\n",
            "Unpacking python3-csvkit (1.0.2-1) ...\n",
            "Selecting previously unselected package csvkit.\n",
            "Preparing to unpack .../24-csvkit_1.0.2-1_all.deb ...\n",
            "Unpacking csvkit (1.0.2-1) ...\n",
            "Selecting previously unselected package python-pyicu.\n",
            "Preparing to unpack .../25-python-pyicu_1.9.8-0ubuntu1_amd64.deb ...\n",
            "Unpacking python-pyicu (1.9.8-0ubuntu1) ...\n",
            "Selecting previously unselected package python3-attr.\n",
            "Preparing to unpack .../26-python3-attr_17.4.0-2_all.deb ...\n",
            "Unpacking python3-attr (17.4.0-2) ...\n",
            "Selecting previously unselected package python3-bs4.\n",
            "Preparing to unpack .../27-python3-bs4_4.6.0-1_all.deb ...\n",
            "Unpacking python3-bs4 (4.6.0-1) ...\n",
            "Selecting previously unselected package python3-chardet.\n",
            "Preparing to unpack .../28-python3-chardet_3.0.4-1_all.deb ...\n",
            "Unpacking python3-chardet (3.0.4-1) ...\n",
            "Selecting previously unselected package python3-webencodings.\n",
            "Preparing to unpack .../29-python3-webencodings_0.5-2_all.deb ...\n",
            "Unpacking python3-webencodings (0.5-2) ...\n",
            "Selecting previously unselected package python3-html5lib.\n",
            "Preparing to unpack .../30-python3-html5lib_0.999999999-1_all.deb ...\n",
            "Unpacking python3-html5lib (0.999999999-1) ...\n",
            "Selecting previously unselected package python3-olefile.\n",
            "Preparing to unpack .../31-python3-olefile_0.45.1-1_all.deb ...\n",
            "Unpacking python3-olefile (0.45.1-1) ...\n",
            "Selecting previously unselected package python3-pil:amd64.\n",
            "Preparing to unpack .../32-python3-pil_5.1.0-1ubuntu0.7_amd64.deb ...\n",
            "Unpacking python3-pil:amd64 (5.1.0-1ubuntu0.7) ...\n",
            "Selecting previously unselected package python3-pluggy.\n",
            "Preparing to unpack .../33-python3-pluggy_0.6.0-1_all.deb ...\n",
            "Unpacking python3-pluggy (0.6.0-1) ...\n",
            "Selecting previously unselected package python3-py.\n",
            "Preparing to unpack .../34-python3-py_1.5.2-1ubuntu0.1_all.deb ...\n",
            "Unpacking python3-py (1.5.2-1ubuntu0.1) ...\n",
            "Selecting previously unselected package python3-pytest.\n",
            "Preparing to unpack .../35-python3-pytest_3.3.2-2_all.deb ...\n",
            "Unpacking python3-pytest (3.3.2-2) ...\n",
            "Setting up python3-sqlalchemy (1.1.11+ds1-1ubuntu1) ...\n",
            "Setting up python3-pil:amd64 (5.1.0-1ubuntu0.7) ...\n",
            "Setting up python3-webencodings (0.5-2) ...\n",
            "Setting up python3-lxml:amd64 (4.2.1-1ubuntu0.6) ...\n",
            "Setting up python3-olefile (0.45.1-1) ...\n",
            "Setting up python3-unidecode (1.0.22-1) ...\n",
            "Setting up python3-six (1.11.0-2) ...\n",
            "Setting up python3-pytimeparse (1.1.5-2) ...\n",
            "Setting up python3-pkg-resources (39.0.1-2) ...\n",
            "Setting up python3-bs4 (4.6.0-1) ...\n",
            "Setting up python3-pluggy (0.6.0-1) ...\n",
            "Setting up python3-future (0.15.2-4ubuntu2) ...\n",
            "update-alternatives: using /usr/bin/python3-futurize to provide /usr/bin/futurize (futurize) in auto mode\n",
            "update-alternatives: using /usr/bin/python3-pasteurize to provide /usr/bin/pasteurize (pasteurize) in auto mode\n",
            "Setting up python3-chardet (3.0.4-1) ...\n",
            "Setting up python3-html5lib (0.999999999-1) ...\n",
            "Setting up python-babel-localedata (2.4.0+dfsg.1-2ubuntu1.1) ...\n",
            "Setting up python3-xlrd (1.1.0-1) ...\n",
            "Setting up python3-attr (17.4.0-2) ...\n",
            "Setting up python3-et-xmlfile (1.0.1-2) ...\n",
            "Setting up python3-dbfread (2.0.7-2) ...\n",
            "Setting up python3-tz (2018.3-2) ...\n",
            "Setting up python-pyicu (1.9.8-0ubuntu1) ...\n",
            "Setting up python3-parsedatetime (2.4-2) ...\n",
            "Setting up python3-isodate (0.6.0-1) ...\n",
            "Setting up python3-jdcal (1.0-1.2) ...\n",
            "Setting up python3-leather (0.3.3-1) ...\n",
            "Setting up python3-py (1.5.2-1ubuntu0.1) ...\n",
            "Setting up python3-slugify (1.2.4-2) ...\n",
            "Setting up python3-pytest (3.3.2-2) ...\n",
            "Setting up python3-babel (2.4.0+dfsg.1-2ubuntu1.1) ...\n",
            "update-alternatives: using /usr/bin/pybabel-python3 to provide /usr/bin/pybabel (pybabel) in auto mode\n",
            "Setting up python3-openpyxl (2.4.9-1) ...\n",
            "Setting up python3-agate (1.6.0-3) ...\n",
            "Setting up python3-agateexcel (0.2.1-3) ...\n",
            "Setting up python3-agatesql (0.5.2-2) ...\n",
            "Setting up python3-agatedbf (0.2.0-2) ...\n",
            "Setting up python3-csvkit (1.0.2-1) ...\n",
            "Setting up csvkit (1.0.2-1) ...\n",
            "Processing triggers for man-db (2.8.3-2ubuntu0.1) ...\n"
          ]
        }
      ],
      "source": [
        "!sudo apt-get install csvkit"
      ]
    },
    {
      "cell_type": "code",
      "execution_count": null,
      "metadata": {
        "colab": {
          "base_uri": "https://localhost:8080/"
        },
        "id": "IFIi-NgisVOP",
        "outputId": "a91d3bce-d169-43bc-a11d-cb6649efca17"
      },
      "outputs": [
        {
          "name": "stdout",
          "output_type": "stream",
          "text": [
            "  % Total    % Received % Xferd  Average Speed   Time    Time     Time  Current\n",
            "                                 Dload  Upload   Total   Spent    Left  Speed\n",
            "100 18.6M  100 18.6M    0     0  41.7M      0 --:--:-- --:--:-- --:--:-- 41.7M\n"
          ]
        }
      ],
      "source": [
        "!curl -N \"https://projects.propublica.org/congress/assets/staffers/2017Q1-house-disburse-detail.csv\"|./filter.py > expensive_water.csv\n",
        "\n"
      ]
    },
    {
      "cell_type": "code",
      "execution_count": null,
      "metadata": {
        "id": "YBsRyLQMtbEN"
      },
      "outputs": [],
      "source": [
        "!csvstat expensive_water.csv > expensive_water_summary.txt"
      ]
    },
    {
      "cell_type": "code",
      "execution_count": null,
      "metadata": {
        "colab": {
          "background_save": true
        },
        "id": "8z_QUM8ctlKj"
      },
      "outputs": [],
      "source": [
        "!touch "
      ]
    }
  ],
  "metadata": {
    "colab": {
      "name": "Untitled0.ipynb",
      "provenance": [],
      "authorship_tag": "ABX9TyNd9BJloqpNBtvv7DaH53cZ",
      "include_colab_link": true
    },
    "kernelspec": {
      "display_name": "Python 3",
      "name": "python3"
    },
    "language_info": {
      "name": "python"
    }
  },
  "nbformat": 4,
  "nbformat_minor": 0
}